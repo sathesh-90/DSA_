{
 "cells": [
  {
   "cell_type": "code",
   "execution_count": null,
   "id": "13546303-83f3-4835-968b-80a529e869db",
   "metadata": {},
   "outputs": [],
   "source": [
    "class Solution(object):\n",
    "    def isScramble(self, s1, s2):\n",
    "        memo = {}  # Dictionary for memoization\n",
    "\n",
    "        def dfs(a, b):\n",
    "            if (a, b) in memo:\n",
    "                return memo[(a, b)]\n",
    "\n",
    "            # Base case: strings are equal\n",
    "            if a == b:\n",
    "                memo[(a, b)] = True\n",
    "                return True\n",
    "\n",
    "            # Prune if sorted characters don't match\n",
    "            if sorted(a) != sorted(b):\n",
    "                memo[(a, b)] = False\n",
    "                return False\n",
    "\n",
    "            n = len(a)\n",
    "            for i in range(1, n):\n",
    "                # Case 1: Without swapping\n",
    "                if dfs(a[:i], b[:i]) and dfs(a[i:], b[i:]):\n",
    "                    memo[(a, b)] = True\n",
    "                    return True\n",
    "                # Case 2: With swapping\n",
    "                if dfs(a[:i], b[-i:]) and dfs(a[i:], b[:-i]):\n",
    "                    memo[(a, b)] = True\n",
    "                    return True\n",
    "\n",
    "            memo[(a, b)] = False\n",
    "            return False\n",
    "\n",
    "        return dfs(s1, s2)\n",
    "\n",
    "\n",
    "# 🔍 Test Cases\n",
    "sol = Solution()\n",
    "print(sol.isScramble(\"great\", \"rgeat\"))  # ✅ Output: True\n",
    "print(sol.isScramble(\"abcde\", \"caebd\"))  # ❌ Output: False\n"
   ]
  }
 ],
 "metadata": {
  "kernelspec": {
   "display_name": "Python 3 (ipykernel)",
   "language": "python",
   "name": "python3"
  },
  "language_info": {
   "codemirror_mode": {
    "name": "ipython",
    "version": 3
   },
   "file_extension": ".py",
   "mimetype": "text/x-python",
   "name": "python",
   "nbconvert_exporter": "python",
   "pygments_lexer": "ipython3",
   "version": "3.8.10"
  },
  "widgets": {
   "application/vnd.jupyter.widget-state+json": {
    "state": {},
    "version_major": 2,
    "version_minor": 0
   }
  }
 },
 "nbformat": 4,
 "nbformat_minor": 5
}
