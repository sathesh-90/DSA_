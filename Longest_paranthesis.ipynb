{
 "cells": [
  {
   "cell_type": "code",
   "execution_count": 1,
   "id": "17b05139-207b-48c8-9d09-2f72c79a1f4c",
   "metadata": {},
   "outputs": [
    {
     "name": "stdout",
     "output_type": "stream",
     "text": [
      "2\n",
      "4\n",
      "0\n",
      "2\n",
      "4\n"
     ]
    }
   ],
   "source": [
    "class Solution(object):\n",
    "    def longestValidParentheses(self, s):\n",
    "        stack = [-1]  # Stack to keep track of indices\n",
    "        max_len = 0   # Maximum length of valid parentheses substring\n",
    "\n",
    "        for i in range(len(s)):\n",
    "            if s[i] == '(':\n",
    "                stack.append(i)\n",
    "            else:\n",
    "                stack.pop()\n",
    "                if not stack:\n",
    "                    stack.append(i)  # Reset the base index\n",
    "                else:\n",
    "                    max_len = max(max_len, i - stack[-1])\n",
    "\n",
    "        return max_len\n",
    "\n",
    "\n",
    "# Example usage\n",
    "if __name__ == \"__main__\":\n",
    "    sol = Solution()\n",
    "    print(sol.longestValidParentheses(\"(()\"))      # Output: 2\n",
    "    print(sol.longestValidParentheses(\")()())\"))   # Output: 4\n",
    "    print(sol.longestValidParentheses(\"\"))         # Output: 0\n",
    "    print(sol.longestValidParentheses(\"()(()\"))    # Output: 2\n",
    "    print(sol.longestValidParentheses(\"()()\"))     # Output: 4\n"
   ]
  },
  {
   "cell_type": "code",
   "execution_count": null,
   "id": "b7f6576f-45b1-4187-9811-40946778564c",
   "metadata": {},
   "outputs": [],
   "source": []
  }
 ],
 "metadata": {
  "kernelspec": {
   "display_name": "Python 3 (ipykernel)",
   "language": "python",
   "name": "python3"
  },
  "language_info": {
   "codemirror_mode": {
    "name": "ipython",
    "version": 3
   },
   "file_extension": ".py",
   "mimetype": "text/x-python",
   "name": "python",
   "nbconvert_exporter": "python",
   "pygments_lexer": "ipython3",
   "version": "3.8.10"
  },
  "widgets": {
   "application/vnd.jupyter.widget-state+json": {
    "state": {},
    "version_major": 2,
    "version_minor": 0
   }
  }
 },
 "nbformat": 4,
 "nbformat_minor": 5
}
