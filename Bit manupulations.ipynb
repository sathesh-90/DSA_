{
 "cells": [
  {
   "cell_type": "code",
   "execution_count": 2,
   "id": "2a8e8816-b731-436f-a942-acef8e95919d",
   "metadata": {},
   "outputs": [
    {
     "name": "stdout",
     "output_type": "stream",
     "text": [
      "1\n",
      "4\n"
     ]
    }
   ],
   "source": [
    "# single number\n",
    "class Solution(object):\n",
    "    def singleNumber(self, nums):\n",
    "        result = 0\n",
    "        for num in nums:\n",
    "            result ^= num  # XOR each number\n",
    "        return result\n",
    "\n",
    "# Example usage:\n",
    "s = Solution()\n",
    "print(s.singleNumber([2, 2, 1]))      # Output: 1\n",
    "print(s.singleNumber([4, 1, 2, 1, 2])) "
   ]
  },
  {
   "cell_type": "code",
   "execution_count": 3,
   "id": "d44cadf5-e8e1-40f9-a8a0-fd5999794ae6",
   "metadata": {},
   "outputs": [
    {
     "name": "stdout",
     "output_type": "stream",
     "text": [
      "[0, 1, 1, 2, 1, 2]\n"
     ]
    }
   ],
   "source": [
    "#Add ones only upto n  \n",
    "\n",
    "\n",
    "class Solution():\n",
    "    def countBits(self, n):\n",
    "        arr = [0] * (n + 1)  # Pre-fill result list with zeros\n",
    "\n",
    "        for i in range(1, n + 1):\n",
    "            if i % 2 == 0:  # If even, same number of 1s as i // 2\n",
    "                arr[i] = arr[i // 2]\n",
    "            else:           # If odd, 1 more 1 than i // 2\n",
    "                arr[i] = arr[i // 2] + 1\n",
    "\n",
    "        return arr\n",
    "\n",
    "\n",
    "s = Solution()\n",
    "print(s.countBits(5))  # Output: [0, 1, 1, 2, 1, 2]\n",
    " "
   ]
  },
  {
   "cell_type": "code",
   "execution_count": 4,
   "id": "c767b9e7-caec-4b93-9ead-8fdcf86f5ec5",
   "metadata": {},
   "outputs": [],
   "source": [
    "# missing number \n",
    "class Solution(object):\n",
    "    def missingNumber(self, nums):\n",
    "        n = len(nums)\n",
    "        res = (n*(n+1))//2\n",
    "        miss = res-sum(nums)\n",
    "        return miss   \n",
    "s = Solution ()       "
   ]
  },
  {
   "cell_type": "code",
   "execution_count": null,
   "id": "0a7cc16a-2850-487d-a571-cff323778b1b",
   "metadata": {},
   "outputs": [],
   "source": [
    "class Solution:\n",
    "    # @param n, an integer\n",
    "    # @return an integer\n",
    "  def reverseBits(self, n):\n",
    "        result = 0\n",
    "        for i in range(32):\n",
    "            # Get the last bit of n\n",
    "            bit = n & 1\n",
    "            # Shift result to the left and add the bit\n",
    "            result = (result << 1) | bit\n",
    "            # Shift n to the right\n",
    "            n = n >> 1\n",
    "        return result"
   ]
  }
 ],
 "metadata": {
  "kernelspec": {
   "display_name": "Python 3 (ipykernel)",
   "language": "python",
   "name": "python3"
  },
  "language_info": {
   "codemirror_mode": {
    "name": "ipython",
    "version": 3
   },
   "file_extension": ".py",
   "mimetype": "text/x-python",
   "name": "python",
   "nbconvert_exporter": "python",
   "pygments_lexer": "ipython3",
   "version": "3.8.10"
  },
  "widgets": {
   "application/vnd.jupyter.widget-state+json": {
    "state": {},
    "version_major": 2,
    "version_minor": 0
   }
  }
 },
 "nbformat": 4,
 "nbformat_minor": 5
}
