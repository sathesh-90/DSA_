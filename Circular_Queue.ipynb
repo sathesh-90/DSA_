{
 "cells": [
  {
   "cell_type": "code",
   "execution_count": null,
   "id": "e21e34de-44ef-4fb1-a9de-c1c9a75a197d",
   "metadata": {},
   "outputs": [],
   "source": [
    "class MyCircularQueue(object):\n",
    "    def __init__(self, k):\n",
    "        self.q = [0] * k\n",
    "        self.size = k\n",
    "        self.head = 0\n",
    "        self.count = 0\n",
    "\n",
    "    def enQueue(self, value):\n",
    "        if self.isFull():\n",
    "            return False\n",
    "        tail = (self.head + self.count) % self.size\n",
    "        self.q[tail] = value\n",
    "        self.count += 1\n",
    "        return True\n",
    "\n",
    "    def deQueue(self):\n",
    "        if self.isEmpty():\n",
    "            return False\n",
    "        self.head = (self.head + 1) % self.size\n",
    "        self.count -= 1\n",
    "        return True\n",
    "\n",
    "    def Front(self):\n",
    "        if self.isEmpty():\n",
    "            return -1\n",
    "        return self.q[self.head]\n",
    "\n",
    "    def Rear(self):\n",
    "        if self.isEmpty():\n",
    "            return -1\n",
    "        tail = (self.head + self.count - 1) % self.size\n",
    "        return self.q[tail]\n",
    "\n",
    "    def isEmpty(self):\n",
    "        return self.count == 0\n",
    "\n",
    "    def isFull(self):\n",
    "        return self.count == self.size\n",
    "\n",
    "\n",
    "# ====== Test Code ======\n",
    "q = MyCircularQueue(3)\n",
    "print(q.enQueue(1))  # True\n",
    "print(q.enQueue(2))  # True\n",
    "print(q.enQueue(3))  # True\n",
    "print(q.enQueue(4))  # False (queue is full)\n",
    "print(q.Rear())      # 3\n",
    "print(q.isFull())    # True\n",
    "print(q.deQueue())   # True\n",
    "print(q.enQueue(4))  # True\n",
    "print(q.Rear())      # 4\n"
   ]
  }
 ],
 "metadata": {
  "kernelspec": {
   "display_name": "Python 3 (ipykernel)",
   "language": "python",
   "name": "python3"
  },
  "language_info": {
   "codemirror_mode": {
    "name": "ipython",
    "version": 3
   },
   "file_extension": ".py",
   "mimetype": "text/x-python",
   "name": "python",
   "nbconvert_exporter": "python",
   "pygments_lexer": "ipython3",
   "version": "3.8.10"
  },
  "widgets": {
   "application/vnd.jupyter.widget-state+json": {
    "state": {},
    "version_major": 2,
    "version_minor": 0
   }
  }
 },
 "nbformat": 4,
 "nbformat_minor": 5
}
