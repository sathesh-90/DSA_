{
 "cells": [
  {
   "cell_type": "code",
   "execution_count": 1,
   "id": "75f8af3c-7daf-4465-9cd9-c94d7ebbdf37",
   "metadata": {},
   "outputs": [
    {
     "name": "stdout",
     "output_type": "stream",
     "text": [
      "Merged List: [1, 1, 2, 3, 4, 4, 5, 6]\n"
     ]
    }
   ],
   "source": [
    "# Merge k linked list in a sorted way\n",
    "\n",
    "\n",
    "\n",
    "\n",
    "import heapq\n",
    "\n",
    "# Definition for singly-linked list.\n",
    "class ListNode(object):\n",
    "    def __init__(self, val=0, next=None):\n",
    "        self.val = val\n",
    "        self.next = next\n",
    "\n",
    "    def __str__(self):\n",
    "        return str(self.val)\n",
    "\n",
    "# Solution class with mergeKLists method\n",
    "class Solution(object):\n",
    "    def mergeKLists(self, lists):\n",
    "        \"\"\"\n",
    "        :type lists: List[ListNode]\n",
    "        :rtype: ListNode\n",
    "        \"\"\"\n",
    "        heap = []\n",
    "\n",
    "        # Initialize the heap with the first node of each list\n",
    "        for i in range(len(lists)):\n",
    "            if lists[i]:\n",
    "                heapq.heappush(heap, (lists[i].val, i, lists[i]))\n",
    "\n",
    "        dummy = ListNode(0)\n",
    "        current = dummy\n",
    "\n",
    "        while heap:\n",
    "            val, i, node = heapq.heappop(heap)\n",
    "            current.next = node\n",
    "            current = current.next\n",
    "            if node.next:\n",
    "                heapq.heappush(heap, (node.next.val, i, node.next))\n",
    "\n",
    "        return dummy.next\n",
    "\n",
    "# Helper: Convert a list of lists into linked lists\n",
    "def build_linked_lists(arrays):\n",
    "    result = []\n",
    "    for arr in arrays:\n",
    "        dummy = ListNode(0)\n",
    "        current = dummy\n",
    "        for val in arr:\n",
    "            current.next = ListNode(val)\n",
    "            current = current.next\n",
    "        result.append(dummy.next)\n",
    "    return result\n",
    "\n",
    "# Helper: Convert a linked list into a Python list\n",
    "def linked_list_to_list(node):\n",
    "    result = []\n",
    "    while node:\n",
    "        result.append(node.val)\n",
    "        node = node.next\n",
    "    return result\n",
    "\n",
    "# ---------- Test Area ----------\n",
    "if __name__ == \"__main__\":\n",
    "    # Sample input: list of lists\n",
    "    input_lists = [[1,4,5],[1,3,4],[2,6]]\n",
    "\n",
    "    # Convert each list to a linked list\n",
    "    linked_lists = build_linked_lists(input_lists)\n",
    "\n",
    "    # Create Solution and merge the k lists\n",
    "    sol = Solution()\n",
    "    merged_head = sol.mergeKLists(linked_lists)\n",
    "\n",
    "    # Output the result as a list\n",
    "    print(\"Merged List:\", linked_list_to_list(merged_head))  # Expected: [1,1,2,3,4,4,5,6]\n",
    " "
   ]
  },
  {
   "cell_type": "code",
   "execution_count": null,
   "id": "40ffde39-1c5f-4df6-afa1-ed2bbdab0a72",
   "metadata": {},
   "outputs": [],
   "source": []
  }
 ],
 "metadata": {
  "kernelspec": {
   "display_name": "Python 3 (ipykernel)",
   "language": "python",
   "name": "python3"
  },
  "language_info": {
   "codemirror_mode": {
    "name": "ipython",
    "version": 3
   },
   "file_extension": ".py",
   "mimetype": "text/x-python",
   "name": "python",
   "nbconvert_exporter": "python",
   "pygments_lexer": "ipython3",
   "version": "3.8.10"
  },
  "widgets": {
   "application/vnd.jupyter.widget-state+json": {
    "state": {},
    "version_major": 2,
    "version_minor": 0
   }
  }
 },
 "nbformat": 4,
 "nbformat_minor": 5
}
