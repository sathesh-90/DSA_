{
 "cells": [
  {
   "cell_type": "code",
   "execution_count": null,
   "id": "2b3fd145-7464-4f14-8560-6806b2c14a34",
   "metadata": {},
   "outputs": [],
   "source": [
    "class Solution:\n",
    "    def orderlyQueue(self, s: str, k: int) -> str:\n",
    "        if k == 1:\n",
    "            # Only rotations allowed; return lex smallest rotation\n",
    "            return min(s[i:] + s[:i] for i in range(len(s)))\n",
    "        else:\n",
    "            # Any permutation is possible; return sorted string\n",
    "            return ''.join(sorted(s))\n",
    "\n",
    "\n",
    "# ======= Test Driver Code =======\n",
    "if __name__ == \"__main__\":\n",
    "    sol = Solution()\n",
    "    \n",
    "    # Example 1\n",
    "    s1 = \"cba\"\n",
    "    k1 = 1\n",
    "    print(\"Input:\", s1, k1)\n",
    "    print(\"Output:\", sol.orderlyQueue(s1, k1))  # Output: \"acb\"\n",
    "\n",
    "    print()\n",
    "\n",
    "    # Example 2\n",
    "    s2 = \"baaca\"\n",
    "    k2 = 3\n",
    "    print(\"Input:\", s2, k2)\n",
    "    print(\"Output:\", sol.orderlyQueue(s2, k2))  # Output: \"aaabc\"\n"
   ]
  }
 ],
 "metadata": {
  "kernelspec": {
   "display_name": "Python 3 (ipykernel)",
   "language": "python",
   "name": "python3"
  },
  "language_info": {
   "codemirror_mode": {
    "name": "ipython",
    "version": 3
   },
   "file_extension": ".py",
   "mimetype": "text/x-python",
   "name": "python",
   "nbconvert_exporter": "python",
   "pygments_lexer": "ipython3",
   "version": "3.8.10"
  },
  "widgets": {
   "application/vnd.jupyter.widget-state+json": {
    "state": {},
    "version_major": 2,
    "version_minor": 0
   }
  }
 },
 "nbformat": 4,
 "nbformat_minor": 5
}
